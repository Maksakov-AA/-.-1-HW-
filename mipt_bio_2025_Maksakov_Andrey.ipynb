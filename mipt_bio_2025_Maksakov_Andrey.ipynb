{
  "nbformat": 4,
  "nbformat_minor": 0,
  "metadata": {
    "colab": {
      "provenance": []
    },
    "kernelspec": {
      "name": "python3",
      "display_name": "Python 3"
    },
    "language_info": {
      "name": "python"
    }
  },
  "cells": [
    {
      "cell_type": "code",
      "execution_count": 1,
      "metadata": {
        "id": "UDffMDWBnZ3k"
      },
      "outputs": [],
      "source": [
        "# Импорт библиотек\n",
        "import pandas as pd\n",
        "import numpy as np\n",
        "import tensorflow as tf\n",
        "from tensorflow import keras\n",
        "from sklearn.model_selection import train_test_split\n",
        "from sklearn.metrics import accuracy_score"
      ]
    },
    {
      "cell_type": "code",
      "source": [
        "# Загрузка данных\n",
        "train_df = pd.read_csv(\"/mnt/data/fmnist_train.csv\")\n",
        "test_df = pd.read_csv(\"/mnt/data/fmnist_test.csv\")"
      ],
      "metadata": {
        "id": "9_BoOgK8nckE"
      },
      "execution_count": 2,
      "outputs": []
    },
    {
      "cell_type": "code",
      "source": [
        "# Предобработка: удаление строк с пропущенными значениями\n",
        "train_df = train_df.dropna()"
      ],
      "metadata": {
        "id": "uQJWXLnXndtI"
      },
      "execution_count": 3,
      "outputs": []
    },
    {
      "cell_type": "code",
      "source": [
        "# Разделение на X и y\n",
        "X = train_df.drop(columns=[\"label\", \"Id\"])\n",
        "y = train_df[\"label\"]"
      ],
      "metadata": {
        "id": "33s7GhQznfAG"
      },
      "execution_count": 4,
      "outputs": []
    },
    {
      "cell_type": "code",
      "source": [
        "# Нормализация пикселей\n",
        "X = X / 255.0\n",
        "test_X = test_df.drop(columns=[\"Id\"]) / 255.0"
      ],
      "metadata": {
        "id": "mYB82ropngvK"
      },
      "execution_count": 5,
      "outputs": []
    },
    {
      "cell_type": "code",
      "source": [
        "# Разделение на train и validation для оценки качества модели\n",
        "X_train, X_val, y_train, y_val = train_test_split(X, y, test_size=0.2, random_state=42)"
      ],
      "metadata": {
        "id": "voIofms2nhqx"
      },
      "execution_count": 6,
      "outputs": []
    },
    {
      "cell_type": "code",
      "source": [
        "# Построение модели\n",
        "model = keras.Sequential([\n",
        "    keras.layers.Input(shape=(784,)),\n",
        "    keras.layers.Dense(256, activation='relu'),\n",
        "    keras.layers.Dropout(0.2),\n",
        "    keras.layers.Dense(128, activation='relu'),\n",
        "    keras.layers.Dropout(0.2),\n",
        "    keras.layers.Dense(10, activation='softmax')\n",
        "])"
      ],
      "metadata": {
        "id": "H3QokkMpni5n"
      },
      "execution_count": 7,
      "outputs": []
    },
    {
      "cell_type": "code",
      "source": [
        "# Компиляция модели\n",
        "model.compile(optimizer='adam',\n",
        "              loss='sparse_categorical_crossentropy',\n",
        "              metrics=['accuracy'])"
      ],
      "metadata": {
        "id": "iMDRAQO7nu8h"
      },
      "execution_count": 8,
      "outputs": []
    },
    {
      "cell_type": "code",
      "source": [
        "# Обучение модели\n",
        "model.fit(X_train, y_train, epochs=10, batch_size=32, validation_data=(X_val, y_val))"
      ],
      "metadata": {
        "colab": {
          "base_uri": "https://localhost:8080/"
        },
        "id": "sueMR9MZnwVG",
        "outputId": "98fd4e16-84e4-4158-fa40-1849433ada3d"
      },
      "execution_count": 9,
      "outputs": [
        {
          "output_type": "stream",
          "name": "stdout",
          "text": [
            "Epoch 1/10\n",
            "\u001b[1m426/426\u001b[0m \u001b[32m━━━━━━━━━━━━━━━━━━━━\u001b[0m\u001b[37m\u001b[0m \u001b[1m4s\u001b[0m 5ms/step - accuracy: 0.6566 - loss: 0.9781 - val_accuracy: 0.8286 - val_loss: 0.4930\n",
            "Epoch 2/10\n",
            "\u001b[1m426/426\u001b[0m \u001b[32m━━━━━━━━━━━━━━━━━━━━\u001b[0m\u001b[37m\u001b[0m \u001b[1m2s\u001b[0m 5ms/step - accuracy: 0.8057 - loss: 0.5233 - val_accuracy: 0.8357 - val_loss: 0.4386\n",
            "Epoch 3/10\n",
            "\u001b[1m426/426\u001b[0m \u001b[32m━━━━━━━━━━━━━━━━━━━━\u001b[0m\u001b[37m\u001b[0m \u001b[1m2s\u001b[0m 5ms/step - accuracy: 0.8330 - loss: 0.4536 - val_accuracy: 0.8257 - val_loss: 0.4456\n",
            "Epoch 4/10\n",
            "\u001b[1m426/426\u001b[0m \u001b[32m━━━━━━━━━━━━━━━━━━━━\u001b[0m\u001b[37m\u001b[0m \u001b[1m4s\u001b[0m 7ms/step - accuracy: 0.8440 - loss: 0.4228 - val_accuracy: 0.8550 - val_loss: 0.3993\n",
            "Epoch 5/10\n",
            "\u001b[1m426/426\u001b[0m \u001b[32m━━━━━━━━━━━━━━━━━━━━\u001b[0m\u001b[37m\u001b[0m \u001b[1m2s\u001b[0m 5ms/step - accuracy: 0.8601 - loss: 0.3881 - val_accuracy: 0.8577 - val_loss: 0.3757\n",
            "Epoch 6/10\n",
            "\u001b[1m426/426\u001b[0m \u001b[32m━━━━━━━━━━━━━━━━━━━━\u001b[0m\u001b[37m\u001b[0m \u001b[1m2s\u001b[0m 5ms/step - accuracy: 0.8632 - loss: 0.3621 - val_accuracy: 0.8627 - val_loss: 0.3766\n",
            "Epoch 7/10\n",
            "\u001b[1m426/426\u001b[0m \u001b[32m━━━━━━━━━━━━━━━━━━━━\u001b[0m\u001b[37m\u001b[0m \u001b[1m3s\u001b[0m 5ms/step - accuracy: 0.8646 - loss: 0.3633 - val_accuracy: 0.8577 - val_loss: 0.3934\n",
            "Epoch 8/10\n",
            "\u001b[1m426/426\u001b[0m \u001b[32m━━━━━━━━━━━━━━━━━━━━\u001b[0m\u001b[37m\u001b[0m \u001b[1m3s\u001b[0m 5ms/step - accuracy: 0.8667 - loss: 0.3524 - val_accuracy: 0.8615 - val_loss: 0.3736\n",
            "Epoch 9/10\n",
            "\u001b[1m426/426\u001b[0m \u001b[32m━━━━━━━━━━━━━━━━━━━━\u001b[0m\u001b[37m\u001b[0m \u001b[1m3s\u001b[0m 8ms/step - accuracy: 0.8803 - loss: 0.3224 - val_accuracy: 0.8691 - val_loss: 0.3645\n",
            "Epoch 10/10\n",
            "\u001b[1m426/426\u001b[0m \u001b[32m━━━━━━━━━━━━━━━━━━━━\u001b[0m\u001b[37m\u001b[0m \u001b[1m4s\u001b[0m 5ms/step - accuracy: 0.8742 - loss: 0.3315 - val_accuracy: 0.8685 - val_loss: 0.3683\n"
          ]
        },
        {
          "output_type": "execute_result",
          "data": {
            "text/plain": [
              "<keras.src.callbacks.history.History at 0x7945701e0c90>"
            ]
          },
          "metadata": {},
          "execution_count": 9
        }
      ]
    },
    {
      "cell_type": "code",
      "source": [
        "# Предсказание на тестовой выборке\n",
        "predictions = model.predict(test_X)\n",
        "predicted_labels = np.argmax(predictions, axis=1)"
      ],
      "metadata": {
        "colab": {
          "base_uri": "https://localhost:8080/"
        },
        "id": "scaDDMfWnxY1",
        "outputId": "04379201-317d-4edb-e5dd-3eab53e78675"
      },
      "execution_count": 10,
      "outputs": [
        {
          "output_type": "stream",
          "name": "stdout",
          "text": [
            "\u001b[1m313/313\u001b[0m \u001b[32m━━━━━━━━━━━━━━━━━━━━\u001b[0m\u001b[37m\u001b[0m \u001b[1m1s\u001b[0m 2ms/step\n"
          ]
        }
      ]
    },
    {
      "cell_type": "code",
      "source": [
        "# Подготовка submission-файла\n",
        "submission = pd.DataFrame({\n",
        "    \"Id\": test_df[\"Id\"],\n",
        "    \"label\": predicted_labels\n",
        "})"
      ],
      "metadata": {
        "id": "lFAwTmbjnyVp"
      },
      "execution_count": 11,
      "outputs": []
    },
    {
      "cell_type": "code",
      "source": [
        "# Сохранение в CSV\n",
        "submission.to_csv(\"/mnt/data/submission.csv\", index=False)\n",
        "\n",
        "print(\"Готово! Файл submission.csv сохранен.\")"
      ],
      "metadata": {
        "colab": {
          "base_uri": "https://localhost:8080/"
        },
        "id": "_9XF4eqhnza5",
        "outputId": "4cb4656b-1760-41ef-91cc-c74fbb05bd11"
      },
      "execution_count": 12,
      "outputs": [
        {
          "output_type": "stream",
          "name": "stdout",
          "text": [
            "Готово! Файл submission.csv сохранен.\n"
          ]
        }
      ]
    }
  ]
}